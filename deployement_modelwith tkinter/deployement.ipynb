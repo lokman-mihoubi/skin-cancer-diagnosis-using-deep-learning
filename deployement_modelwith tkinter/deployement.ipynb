{
 "cells": [
  {
   "cell_type": "code",
   "execution_count": 1,
   "id": "6a9e3208",
   "metadata": {},
   "outputs": [],
   "source": [
    "from tensorflow.keras.models import load_model\n",
    "model=load_model('model_benimalig.h5')\n",
    "model=load_model('model_bm.h5')"
   ]
  },
  {
   "cell_type": "code",
   "execution_count": 2,
   "id": "f29cf18a",
   "metadata": {},
   "outputs": [
    {
     "name": "stdout",
     "output_type": "stream",
     "text": [
      "Model: \"model_13\"\n",
      "_________________________________________________________________\n",
      "Layer (type)                 Output Shape              Param #   \n",
      "=================================================================\n",
      "input_14 (InputLayer)        [(None, 100, 100, 3)]     0         \n",
      "_________________________________________________________________\n",
      "block1_conv1 (Conv2D)        (None, 100, 100, 64)      1792      \n",
      "_________________________________________________________________\n",
      "block1_conv2 (Conv2D)        (None, 100, 100, 64)      36928     \n",
      "_________________________________________________________________\n",
      "block1_pool (MaxPooling2D)   (None, 50, 50, 64)        0         \n",
      "_________________________________________________________________\n",
      "block2_conv1 (Conv2D)        (None, 50, 50, 128)       73856     \n",
      "_________________________________________________________________\n",
      "block2_conv2 (Conv2D)        (None, 50, 50, 128)       147584    \n",
      "_________________________________________________________________\n",
      "block2_pool (MaxPooling2D)   (None, 25, 25, 128)       0         \n",
      "_________________________________________________________________\n",
      "block3_conv1 (Conv2D)        (None, 25, 25, 256)       295168    \n",
      "_________________________________________________________________\n",
      "block3_conv2 (Conv2D)        (None, 25, 25, 256)       590080    \n",
      "_________________________________________________________________\n",
      "block3_conv3 (Conv2D)        (None, 25, 25, 256)       590080    \n",
      "_________________________________________________________________\n",
      "block3_pool (MaxPooling2D)   (None, 12, 12, 256)       0         \n",
      "_________________________________________________________________\n",
      "block4_conv1 (Conv2D)        (None, 12, 12, 512)       1180160   \n",
      "_________________________________________________________________\n",
      "block4_conv2 (Conv2D)        (None, 12, 12, 512)       2359808   \n",
      "_________________________________________________________________\n",
      "block4_conv3 (Conv2D)        (None, 12, 12, 512)       2359808   \n",
      "_________________________________________________________________\n",
      "block4_pool (MaxPooling2D)   (None, 6, 6, 512)         0         \n",
      "_________________________________________________________________\n",
      "block5_conv1 (Conv2D)        (None, 6, 6, 512)         2359808   \n",
      "_________________________________________________________________\n",
      "block5_conv2 (Conv2D)        (None, 6, 6, 512)         2359808   \n",
      "_________________________________________________________________\n",
      "block5_conv3 (Conv2D)        (None, 6, 6, 512)         2359808   \n",
      "_________________________________________________________________\n",
      "block5_pool (MaxPooling2D)   (None, 3, 3, 512)         0         \n",
      "_________________________________________________________________\n",
      "conv2d_13 (Conv2D)           (None, 1, 1, 100)         460900    \n",
      "_________________________________________________________________\n",
      "flatten_13 (Flatten)         (None, 100)               0         \n",
      "_________________________________________________________________\n",
      "dropout_13 (Dropout)         (None, 100)               0         \n",
      "_________________________________________________________________\n",
      "dense_13 (Dense)             (None, 2)                 202       \n",
      "=================================================================\n",
      "Total params: 15,175,790\n",
      "Trainable params: 461,102\n",
      "Non-trainable params: 14,714,688\n",
      "_________________________________________________________________\n"
     ]
    }
   ],
   "source": [
    "model.summary()"
   ]
  },
  {
   "cell_type": "code",
   "execution_count": 4,
   "id": "a9be927a",
   "metadata": {},
   "outputs": [],
   "source": [
    "model.compile(optimizer = 'adam', loss = 'binary_crossentropy', metrics = ['accuracy'])\n"
   ]
  },
  {
   "cell_type": "code",
   "execution_count": 5,
   "id": "aa8db645",
   "metadata": {},
   "outputs": [
    {
     "name": "stdout",
     "output_type": "stream",
     "text": [
      "1.0\n"
     ]
    }
   ],
   "source": [
    "from keras.preprocessing import image\n",
    "import numpy as np\n",
    "\n",
    "imagePath=('new benign.jpg')\n",
    "\n",
    "test_image = image.load_img(imagePath, target_size = (100, 100))\n",
    "test_image = image.img_to_array(test_image)\n",
    "test_image = np.expand_dims(test_image, axis = 0)\n",
    "resu = model.predict(test_image)\n",
    "x=float(resu[0][0])\n",
    "print(x)"
   ]
  },
  {
   "cell_type": "code",
   "execution_count": 10,
   "id": "37aa5e5b",
   "metadata": {},
   "outputs": [
    {
     "name": "stdout",
     "output_type": "stream",
     "text": [
      "[[6.3171365e-14 1.0000000e+00]]\n",
      "6.317136484051966e-14\n"
     ]
    }
   ],
   "source": [
    "import numpy as np\n",
    "\n",
    "imagePath=('new malig.jpg')\n",
    "test_image = image.load_img(imagePath, target_size = (100, 100)) \n",
    "test_image = image.img_to_array(test_image)\n",
    "test_image = np.expand_dims(test_image, axis = 0)\n",
    "result = model.predict(test_image)\n",
    "print(result)\n",
    "x=float(result[0][0])\n",
    "print(x)\n"
   ]
  },
  {
   "cell_type": "code",
   "execution_count": 11,
   "id": "7206ca6f",
   "metadata": {},
   "outputs": [
    {
     "name": "stdout",
     "output_type": "stream",
     "text": [
      "it's malignant\n"
     ]
    }
   ],
   "source": [
    "if x ==1:\n",
    "  print(\"it's benign\")\n",
    "elif x== float(6.317136484051966e-14)  :\n",
    "    print(\"it's malignant\" )\n",
    "else:\n",
    "    print(\"it's not a cancer!!\")\n",
    "    "
   ]
  },
  {
   "cell_type": "code",
   "execution_count": 12,
   "id": "2e582b90",
   "metadata": {},
   "outputs": [],
   "source": [
    "\n",
    "from tkinter import *\n",
    "from PIL import ImageTk, Image\n",
    "from tkinter import filedialog\n",
    "import os\n",
    "import cv2\n",
    "from PIL import Image\n",
    "import matplotlib.pyplot as plt \n",
    "root=Tk()\n",
    "root.geometry(\"650x550\")\n",
    "root['bg']='#FBCAFF'\n",
    "root.resizable(width=True,height=True)\n",
    "my_font1=('times', 30,'bold')\n",
    "my_font2=('times', 20,'bold')\n",
    "\n",
    "def predict():\n",
    "        \n",
    "        file_path = filedialog.askopenfilename()\n",
    "   \n",
    "        test_image = image.load_img(file_path, target_size = (100, 100)) \n",
    "        test_image=test_image = image.img_to_array(test_image)\n",
    "        test_image=test_image = np.expand_dims(test_image, axis = 0)\n",
    "        result=model2.predict(test_image)\n",
    "        x=float(result[0][0])  \n",
    "      \n",
    "        output=''\n",
    "        if(x==1 ):\n",
    "                output=\"It's a benign\"\n",
    "        \n",
    "        else:\n",
    "            output=\"It's  a malignant \" \n",
    "        prediction=Label(text='Result : '+output,font=my_font2,bg='#FBCAFF')\n",
    "        prediction.pack()\n",
    "        img=Image.open(file_path)\n",
    "        img=img.resize((400,400),Image.ANTIALIAS)\n",
    "        img=ImageTk.PhotoImage(img)\n",
    "        panel=Label(root,image=img)\n",
    "        panel.image=img\n",
    "        panel.pack()\n",
    "        \n",
    "                                                \n",
    "                \n",
    "          \n",
    "    \n",
    "        \n",
    "\n",
    "        \n",
    "      \n",
    "      \n",
    "   \n",
    "      \n",
    "    \n",
    "title=Label(root,text=\"Skin cancer\",bg='#FBCAFF',font=my_font1).pack()\n",
    "button1=Button(root,text='Predict',command=predict,width=\"40\",height=\"2\",bg=\"#FA4EAB\",font=('times', 11,'bold')).pack()\n",
    "\n",
    "\n",
    "\n",
    "\n",
    "root.mainloop()"
   ]
  },
  {
   "cell_type": "code",
   "execution_count": null,
   "id": "677e4812",
   "metadata": {},
   "outputs": [],
   "source": []
  },
  {
   "cell_type": "code",
   "execution_count": null,
   "id": "c3339493",
   "metadata": {},
   "outputs": [],
   "source": []
  },
  {
   "cell_type": "code",
   "execution_count": 42,
   "id": "8ebaadb8",
   "metadata": {},
   "outputs": [
    {
     "name": "stdout",
     "output_type": "stream",
     "text": [
      "9\n"
     ]
    }
   ],
   "source": []
  },
  {
   "cell_type": "code",
   "execution_count": null,
   "id": "27c08299",
   "metadata": {},
   "outputs": [],
   "source": []
  },
  {
   "cell_type": "code",
   "execution_count": null,
   "id": "deed2325",
   "metadata": {},
   "outputs": [],
   "source": []
  }
 ],
 "metadata": {
  "kernelspec": {
   "display_name": "Python 3",
   "language": "python",
   "name": "python3"
  },
  "language_info": {
   "codemirror_mode": {
    "name": "ipython",
    "version": 3
   },
   "file_extension": ".py",
   "mimetype": "text/x-python",
   "name": "python",
   "nbconvert_exporter": "python",
   "pygments_lexer": "ipython3",
   "version": "3.8.11"
  }
 },
 "nbformat": 4,
 "nbformat_minor": 5
}
